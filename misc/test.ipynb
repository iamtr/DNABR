{
 "cells": [
  {
   "cell_type": "code",
   "execution_count": 1,
   "metadata": {},
   "outputs": [
    {
     "name": "stdout",
     "output_type": "stream",
     "text": [
      "Descendant IDs: {'GO:0080084', 'GO:0003707', 'GO:1990829', 'GO:0070336', 'GO:0071820', 'GO:0141097', 'GO:0030983', 'GO:0032137', 'GO:0070644', 'GO:0003699', 'GO:0032357', 'GO:0003688', 'GO:0044378', 'GO:0001031', 'GO:0001045', 'GO:0000997', 'GO:1990472', 'GO:0001141', 'GO:0000986', 'GO:0031492', 'GO:0001133', 'GO:1990165', 'GO:0140586', 'GO:0000980', 'GO:0001202', 'GO:0001216', 'GO:0004879', 'GO:0098505', 'GO:0004884', 'GO:0000182', 'GO:0032143', 'GO:0000978', 'GO:0001219', 'GO:0001017', 'GO:0043566', 'GO:0000977', 'GO:1905773', 'GO:1990470', 'GO:0001002', 'GO:0061776', 'GO:0019237', 'GO:0097100', 'GO:0003697', 'GO:0016987', 'GO:0000996', 'GO:0000403', 'GO:0001047', 'GO:1990955', 'GO:0008434', 'GO:0001162', 'GO:0000332', 'GO:0001018', 'GO:0004887', 'GO:0000976', 'GO:0001006', 'GO:0032139', 'GO:0140728', 'GO:0001203', 'GO:0004880', 'GO:0001016', 'GO:0001037', 'GO:0044377', 'GO:0001130', 'GO:0032358', 'GO:0001215', 'GO:0003708', 'GO:0038051', 'GO:0098531', 'GO:0001165', 'GO:0070362', 'GO:0000985', 'GO:0001211', 'GO:0001140', 'GO:1990814', 'GO:0000217', 'GO:0070338', 'GO:0001039', 'GO:0001160', 'GO:0044323', 'GO:0001077', 'GO:0000401', 'GO:0001145', 'GO:0001218', 'GO:0061821', 'GO:0070337', 'GO:0001158', 'GO:0000984', 'GO:0035484', 'GO:0035485', 'GO:0090655', 'GO:0035488', 'GO:1990471', 'GO:0003680', 'GO:0010736', 'GO:0032422', 'GO:0001013', 'GO:0001204', 'GO:0001205', 'GO:0001200', 'GO:0001210', 'GO:0001163', 'GO:0032356', 'GO:0032140', 'GO:0000130', 'GO:0032181', 'GO:0001209', 'GO:0000982', 'GO:0001053', 'GO:0001220', 'GO:0035538', 'GO:0001212', 'GO:0036310', 'GO:0032135', 'GO:0001131', 'GO:0106250', 'GO:0004882', 'GO:0032141', 'GO:0070363', 'GO:0010844', 'GO:0070594', 'GO:0045142', 'GO:0070364', 'GO:0070888', 'GO:0140587', 'GO:0001030', 'GO:0000404', 'GO:0001151', 'GO:0032810', 'GO:0032134', 'GO:0003696', 'GO:0001159', 'GO:0038054', 'GO:0035487', 'GO:0045027', 'GO:0000405', 'GO:0001199', 'GO:0001228', 'GO:0106260', 'GO:0035326', 'GO:0043047', 'GO:0001187', 'GO:0001217', 'GO:0140564', 'GO:0032448', 'GO:0001012', 'GO:0001148', 'GO:0044213', 'GO:0004883', 'GO:0070361', 'GO:0062037', 'GO:0043565', 'GO:0010385', 'GO:0043110', 'GO:0004886', 'GO:0032136', 'GO:1990943', 'GO:0003681', 'GO:0000400', 'GO:0038050', 'GO:0035497', 'GO:0001227', 'GO:0003677', 'GO:0001147', 'GO:0001146', 'GO:0045322', 'GO:0001164', 'GO:0034056', 'GO:0001166', 'GO:0140431', 'GO:0032132', 'GO:0035486', 'GO:0030284', 'GO:0000975', 'GO:0001161', 'GO:0035939', 'GO:0008327', 'GO:0044729', 'GO:1990837', 'GO:0032138', 'GO:0031490', 'GO:0140585', 'GO:0003692', 'GO:0001214', 'GO:0000497', 'GO:0001201', 'GO:0003690', 'GO:0044374', 'GO:0001019', 'GO:0000406', 'GO:0003691', 'GO:0061730', 'GO:0141180', 'GO:0001071', 'GO:0098847', 'GO:0001078', 'GO:0038052', 'GO:0003700', 'GO:0043035', 'GO:0038186', 'GO:0003684', 'GO:0035489', 'GO:0000992', 'GO:0003698', 'GO:0000981', 'GO:0001150', 'GO:0003693', 'GO:0031963', 'GO:0141094', 'GO:0000987', 'GO:0008301', 'GO:0042162', 'GO:0001032', 'GO:0003705', 'GO:0031634', 'GO:0000979', 'GO:0001046', 'GO:0099077', 'GO:0044212', 'GO:0001213', 'GO:0071443', 'GO:0001044', 'GO:0061849', 'GO:0141096', 'GO:0032142', 'GO:0032131', 'GO:0001003', 'GO:0110035', 'GO:0001206', 'GO:0000402', 'GO:0051880'}\n",
      "230\n"
     ]
    }
   ],
   "source": [
    "from typing import Iterable, Union, Set\n",
    "import obonet\n",
    "import networkx as nx\n",
    "import json\n",
    "# import pydot\n",
    "\n",
    "def load_obo_file(file_path):\n",
    "    graph = obonet.read_obo(file_path)\n",
    "    graph = graph.reverse()\n",
    "    return graph\n",
    "\n",
    "def get_descendants_with_alt_ids(graph, term_ids: Union[Iterable[str], str]) -> Set[str]:\n",
    "    # Initialize an empty set to collect all IDs\n",
    "    all_ids = set()\n",
    "\n",
    "    # Ensure term_ids is iterable (treat a single string as a list with one string)\n",
    "    if isinstance(term_ids, str):\n",
    "        term_ids = [term_ids]\n",
    "\n",
    "    # Process each term ID\n",
    "    for term_id in term_ids:\n",
    "        if not graph.has_node(term_id):\n",
    "            raise ValueError(f\"Term ID not found in the graph: {term_id}\")\n",
    "\n",
    "        # Add the root term's ID and alt_id (if any)\n",
    "        all_ids.add(term_id)\n",
    "        if 'alt_id' in graph.nodes[term_id]:\n",
    "            all_ids.update(graph.nodes[term_id]['alt_id'])\n",
    "\n",
    "        # Get all descendant IDs\n",
    "        descendants = nx.descendants(graph, term_id)\n",
    "        for desc in descendants:\n",
    "            # Add the primary id\n",
    "            all_ids.add(desc)\n",
    "            # Check and add all alternative ids\n",
    "            if 'alt_id' in graph.nodes[desc]:\n",
    "                all_ids.update(graph.nodes[desc]['alt_id'])\n",
    "\n",
    "    return all_ids\n",
    "\n",
    "# Usage example\n",
    "file_path = 'go-basic.obo'  # Adjust to the path of your OBO file\n",
    "term_id = ['GO:0003677', 'GO:0003700']  # Replace with your term of interest\n",
    "try:\n",
    "    graph = load_obo_file(file_path)\n",
    "    descendant_ids = get_descendants_with_alt_ids(graph, term_id)\n",
    "    print(\"Descendant IDs:\", descendant_ids)\n",
    "    print(len(descendant_ids))\n",
    "    json.dump(list(descendant_ids), open('descendant_ids.json', 'w'))\n",
    "except Exception as e:\n",
    "    print(\"Error:\", str(e))\n"
   ]
  }
 ],
 "metadata": {
  "kernelspec": {
   "display_name": "Python 3",
   "language": "python",
   "name": "python3"
  },
  "language_info": {
   "codemirror_mode": {
    "name": "ipython",
    "version": 3
   },
   "file_extension": ".py",
   "mimetype": "text/x-python",
   "name": "python",
   "nbconvert_exporter": "python",
   "pygments_lexer": "ipython3",
   "version": "3.10.12"
  }
 },
 "nbformat": 4,
 "nbformat_minor": 2
}
